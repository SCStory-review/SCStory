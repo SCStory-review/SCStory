{
 "cells": [
  {
   "cell_type": "code",
   "execution_count": 9,
   "id": "b252fd20-6ff8-4fa5-88c7-d0942fa4f9cc",
   "metadata": {},
   "outputs": [],
   "source": [
    "import torch\n",
    "import pandas as pd\n",
    "from sentence_transformers import SentenceTransformer\n",
    "import numpy as np\n",
    "import spacy"
   ]
  },
  {
   "cell_type": "code",
   "execution_count": 10,
   "id": "efd2b0f1-2a5e-4ad7-a3c9-3869286cdd5a",
   "metadata": {},
   "outputs": [
    {
     "name": "stdout",
     "output_type": "stream",
     "text": [
      "Cuda device 4 | NVIDIA RTX A6000 | 0.0/0.0GB\n"
     ]
    }
   ],
   "source": [
    "device_id = 4\n",
    "torch.cuda.set_device(torch.device(f'cuda:{device_id}' if torch.cuda.is_available() else 'cpu'))\n",
    "print ('Cuda device %s | %s | %s/%sGB' % (torch.cuda.current_device(), torch.cuda.get_device_name(device_id),round(torch.cuda.memory_allocated(device_id)/1024**3,1),round(torch.cuda.memory_reserved(device_id)/1024**3,1)))"
   ]
  },
  {
   "cell_type": "markdown",
   "id": "3e72b159",
   "metadata": {},
   "source": [
    "## Sentence and keywores (for baselines) tokenization"
   ]
  },
  {
   "cell_type": "code",
   "execution_count": 11,
   "id": "81a94ef9-1d78-49a3-9bc6-d71b767f8036",
   "metadata": {},
   "outputs": [],
   "source": [
    "nlp = spacy.load(\"en_core_web_lg\")"
   ]
  },
  {
   "cell_type": "code",
   "execution_count": 48,
   "id": "fd673cef",
   "metadata": {},
   "outputs": [],
   "source": [
    "DATASET_NAME = 'NewsJune22' #raw file name "
   ]
  },
  {
   "cell_type": "code",
   "execution_count": 13,
   "id": "9a1aeba5-f7c2-4d6e-bcf0-e7b21264ba82",
   "metadata": {},
   "outputs": [],
   "source": [
    "article_df = pd.read_json(DATASET_NAME+\"_raw.json\") "
   ]
  },
  {
   "cell_type": "code",
   "execution_count": 14,
   "id": "a8c1063a-911b-4d52-afbe-7729f47acb27",
   "metadata": {},
   "outputs": [],
   "source": [
    "article_df.dropna(subset=['text','title'],inplace=True)"
   ]
  },
  {
   "cell_type": "code",
   "execution_count": 16,
   "id": "dbf636c6",
   "metadata": {},
   "outputs": [
    {
     "data": {
      "text/html": [
       "<div>\n",
       "<style scoped>\n",
       "    .dataframe tbody tr th:only-of-type {\n",
       "        vertical-align: middle;\n",
       "    }\n",
       "\n",
       "    .dataframe tbody tr th {\n",
       "        vertical-align: top;\n",
       "    }\n",
       "\n",
       "    .dataframe thead th {\n",
       "        text-align: right;\n",
       "    }\n",
       "</style>\n",
       "<table border=\"1\" class=\"dataframe\">\n",
       "  <thead>\n",
       "    <tr style=\"text-align: right;\">\n",
       "      <th></th>\n",
       "      <th>id</th>\n",
       "      <th>date</th>\n",
       "      <th>title</th>\n",
       "      <th>text</th>\n",
       "      <th>story</th>\n",
       "      <th>query</th>\n",
       "    </tr>\n",
       "  </thead>\n",
       "  <tbody>\n",
       "    <tr>\n",
       "      <th>0</th>\n",
       "      <td>0</td>\n",
       "      <td>2022-06-01</td>\n",
       "      <td>Russia-Ukraine war: What happened today (June 1)</td>\n",
       "      <td>Russia-Ukraine war: What happened today (June ...</td>\n",
       "      <td>0</td>\n",
       "      <td>Russia</td>\n",
       "    </tr>\n",
       "    <tr>\n",
       "      <th>1</th>\n",
       "      <td>1</td>\n",
       "      <td>2022-06-01</td>\n",
       "      <td>Pediatric COVID19 Cases in Counties with and W...</td>\n",
       "      <td>Preprints with The Lancet is part of SSRN´s Fi...</td>\n",
       "      <td>1</td>\n",
       "      <td>covid</td>\n",
       "    </tr>\n",
       "    <tr>\n",
       "      <th>2</th>\n",
       "      <td>2</td>\n",
       "      <td>2022-06-01</td>\n",
       "      <td>Older Americans bore brunt of COVID-19 deaths ...</td>\n",
       "      <td>More than 300 Americans are still dying of COV...</td>\n",
       "      <td>1</td>\n",
       "      <td>covid</td>\n",
       "    </tr>\n",
       "    <tr>\n",
       "      <th>3</th>\n",
       "      <td>3</td>\n",
       "      <td>2022-06-01</td>\n",
       "      <td>Shanghai’s lockdown may have ended, but not Ch...</td>\n",
       "      <td>As the clock struck midnight today (June 1), S...</td>\n",
       "      <td>1</td>\n",
       "      <td>covid</td>\n",
       "    </tr>\n",
       "    <tr>\n",
       "      <th>4</th>\n",
       "      <td>4</td>\n",
       "      <td>2022-06-01</td>\n",
       "      <td>PEPFAR Shows What a Global Response to Covid C...</td>\n",
       "      <td>The platforms to deliver vaccines, tests and t...</td>\n",
       "      <td>1</td>\n",
       "      <td>covid</td>\n",
       "    </tr>\n",
       "    <tr>\n",
       "      <th>...</th>\n",
       "      <td>...</td>\n",
       "      <td>...</td>\n",
       "      <td>...</td>\n",
       "      <td>...</td>\n",
       "      <td>...</td>\n",
       "      <td>...</td>\n",
       "    </tr>\n",
       "    <tr>\n",
       "      <th>1063</th>\n",
       "      <td>1063</td>\n",
       "      <td>2022-06-14</td>\n",
       "      <td>EU states step up pressure on Pfizer to cut un...</td>\n",
       "      <td>By Francesco Guarascio\\n\\nBRUSSELS (Reuters) -...</td>\n",
       "      <td>1</td>\n",
       "      <td>covid</td>\n",
       "    </tr>\n",
       "    <tr>\n",
       "      <th>1064</th>\n",
       "      <td>1064</td>\n",
       "      <td>2022-06-14</td>\n",
       "      <td>Althia Raj: Ottawa to drop COVID-19 vaccine ma...</td>\n",
       "      <td>Unvaccinated Canadians will soon be able to fl...</td>\n",
       "      <td>1</td>\n",
       "      <td>covid</td>\n",
       "    </tr>\n",
       "    <tr>\n",
       "      <th>1065</th>\n",
       "      <td>1065</td>\n",
       "      <td>2022-06-14</td>\n",
       "      <td>The Maltese Islands Reopen for Summer, COVID-1...</td>\n",
       "      <td>VALLETTA, Malta, June 14, 2022 /PRNewswire/ --...</td>\n",
       "      <td>1</td>\n",
       "      <td>covid</td>\n",
       "    </tr>\n",
       "    <tr>\n",
       "      <th>1066</th>\n",
       "      <td>1066</td>\n",
       "      <td>2022-06-14</td>\n",
       "      <td>China's '618' shopping festival to test COVID-...</td>\n",
       "      <td>China's '618' shopping festival to test COVID-...</td>\n",
       "      <td>1</td>\n",
       "      <td>covid</td>\n",
       "    </tr>\n",
       "    <tr>\n",
       "      <th>1067</th>\n",
       "      <td>1067</td>\n",
       "      <td>2022-06-14</td>\n",
       "      <td>Drugs bounce back in Europe after COVID lockdo...</td>\n",
       "      <td>There has been a rapid bounce back in drug sup...</td>\n",
       "      <td>1</td>\n",
       "      <td>covid</td>\n",
       "    </tr>\n",
       "  </tbody>\n",
       "</table>\n",
       "<p>1068 rows × 6 columns</p>\n",
       "</div>"
      ],
      "text/plain": [
       "        id       date                                              title  \\\n",
       "0        0 2022-06-01   Russia-Ukraine war: What happened today (June 1)   \n",
       "1        1 2022-06-01  Pediatric COVID19 Cases in Counties with and W...   \n",
       "2        2 2022-06-01  Older Americans bore brunt of COVID-19 deaths ...   \n",
       "3        3 2022-06-01  Shanghai’s lockdown may have ended, but not Ch...   \n",
       "4        4 2022-06-01  PEPFAR Shows What a Global Response to Covid C...   \n",
       "...    ...        ...                                                ...   \n",
       "1063  1063 2022-06-14  EU states step up pressure on Pfizer to cut un...   \n",
       "1064  1064 2022-06-14  Althia Raj: Ottawa to drop COVID-19 vaccine ma...   \n",
       "1065  1065 2022-06-14  The Maltese Islands Reopen for Summer, COVID-1...   \n",
       "1066  1066 2022-06-14  China's '618' shopping festival to test COVID-...   \n",
       "1067  1067 2022-06-14  Drugs bounce back in Europe after COVID lockdo...   \n",
       "\n",
       "                                                   text  story   query  \n",
       "0     Russia-Ukraine war: What happened today (June ...      0  Russia  \n",
       "1     Preprints with The Lancet is part of SSRN´s Fi...      1   covid  \n",
       "2     More than 300 Americans are still dying of COV...      1   covid  \n",
       "3     As the clock struck midnight today (June 1), S...      1   covid  \n",
       "4     The platforms to deliver vaccines, tests and t...      1   covid  \n",
       "...                                                 ...    ...     ...  \n",
       "1063  By Francesco Guarascio\\n\\nBRUSSELS (Reuters) -...      1   covid  \n",
       "1064  Unvaccinated Canadians will soon be able to fl...      1   covid  \n",
       "1065  VALLETTA, Malta, June 14, 2022 /PRNewswire/ --...      1   covid  \n",
       "1066  China's '618' shopping festival to test COVID-...      1   covid  \n",
       "1067  There has been a rapid bounce back in drug sup...      1   covid  \n",
       "\n",
       "[1068 rows x 6 columns]"
      ]
     },
     "execution_count": 16,
     "metadata": {},
     "output_type": "execute_result"
    }
   ],
   "source": [
    "article_df"
   ]
  },
  {
   "cell_type": "code",
   "execution_count": 17,
   "id": "32d3bd0f-c58b-4ac6-99a7-2de8f8f2aca9",
   "metadata": {
    "tags": []
   },
   "outputs": [],
   "source": [
    "article_df.columns = ['id', 'date', 'title', 'text', 'story', 'query'] # set corresponding column names. Drop 'story' or 'query' (used to collect stories) column if not available"
   ]
  },
  {
   "cell_type": "code",
   "execution_count": 18,
   "id": "8fd4a3ea-2f1d-45e7-9a96-dffc7791f626",
   "metadata": {
    "tags": []
   },
   "outputs": [],
   "source": [
    "article_df['sentences'] = [[t] for t in article_df.title]\n",
    "article_df['sentence_counts'] = \"\""
   ]
  },
  {
   "cell_type": "code",
   "execution_count": 19,
   "id": "7d05a798-be4a-4b4f-ba0b-aa2e638b65d0",
   "metadata": {
    "tags": []
   },
   "outputs": [],
   "source": [
    "all_sentences = []\n",
    "for text in article_df['text'].values:\n",
    "    parsed = nlp(text)\n",
    "    sentences = []\n",
    "    for s in parsed.sents:\n",
    "        if len(s) > 1:\n",
    "            sentences.append(s.text)\n",
    "    all_sentences.append(sentences)"
   ]
  },
  {
   "cell_type": "code",
   "execution_count": 20,
   "id": "b8fde869-f3b4-4da9-8e64-298ef0623476",
   "metadata": {},
   "outputs": [],
   "source": [
    "for i in range(len(all_sentences)):\n",
    "    article_df.at[i,'sentences'] = article_df.loc[i].sentences + all_sentences[i]\n",
    "    article_df.at[i,'sentence_counts'] = len(article_df.loc[i].sentences)"
   ]
  },
  {
   "cell_type": "code",
   "execution_count": 40,
   "id": "21166739-3d28-4b67-b156-7a6111ef6d9c",
   "metadata": {},
   "outputs": [],
   "source": [
    "st_model = SentenceTransformer('sentence-transformers/all-roberta-large-v1').cuda()\n",
    "# SBERT: sentence-transformers/all-roberta-large-v1\n",
    "# ST5: sentence-t5-large\n",
    "#https://www.sbert.net/docs/pretrained_models.html"
   ]
  },
  {
   "cell_type": "code",
   "execution_count": 41,
   "id": "85e27963-006a-4141-8533-eca92718187a",
   "metadata": {
    "scrolled": true,
    "tags": []
   },
   "outputs": [
    {
     "name": "stdout",
     "output_type": "stream",
     "text": [
      "100\n",
      "200\n",
      "300\n",
      "400\n",
      "500\n",
      "600\n",
      "700\n",
      "800\n",
      "900\n",
      "1000\n"
     ]
    }
   ],
   "source": [
    "embeddings = []\n",
    "errors = []\n",
    "k = 0\n",
    "for sentences in article_df['sentences']:\n",
    "    try:\n",
    "        embedding = st_model.encode(sentences)\n",
    "        embeddings.append(embedding)\n",
    "    except Exception as e:\n",
    "        errors.append(k)\n",
    "        print(\"error at\", k, e)\n",
    "\n",
    "    k = k + 1\n",
    "    if k % 100 ==0:\n",
    "        print(k)"
   ]
  },
  {
   "cell_type": "code",
   "execution_count": 42,
   "id": "74d29cf7-956d-404b-9c5b-d563c36b6bf9",
   "metadata": {},
   "outputs": [],
   "source": [
    "article_df['sentence_embds'] = embeddings"
   ]
  },
  {
   "cell_type": "code",
   "execution_count": 22,
   "id": "1481c0c0-44d2-4560-871c-11a29b728278",
   "metadata": {},
   "outputs": [],
   "source": [
    "article_df['date'] = [str(k)[:10] for k in article_df['date']]"
   ]
  },
  {
   "cell_type": "code",
   "execution_count": 23,
   "id": "bd1b1768-898c-4ea8-894f-68eac178e954",
   "metadata": {},
   "outputs": [],
   "source": [
    "article_df.sort_values(by=['date'],inplace=True)"
   ]
  },
  {
   "cell_type": "code",
   "execution_count": 24,
   "id": "1206cea3-f075-4746-a53c-ffecb6ff34b3",
   "metadata": {},
   "outputs": [],
   "source": [
    "article_df.reset_index(inplace= True, drop=True)"
   ]
  },
  {
   "cell_type": "code",
   "execution_count": 25,
   "id": "2d0ac961-be22-478d-ac56-b0476e6b2845",
   "metadata": {},
   "outputs": [],
   "source": [
    "article_df['id'] = article_df.index"
   ]
  },
  {
   "cell_type": "markdown",
   "id": "730f2a85",
   "metadata": {},
   "source": [
    "## Masking"
   ]
  },
  {
   "cell_type": "code",
   "execution_count": 43,
   "id": "e3631742",
   "metadata": {},
   "outputs": [],
   "source": [
    "def masking(df, idx, num_sens = 50):\n",
    "    org_embd = torch.tensor(df.loc[idx,'sentence_embds'][:num_sens])\n",
    "    maksed_embd = torch.zeros(num_sens, org_embd.shape[1])\n",
    "    mask = torch.ones(num_sens)\n",
    "    maksed_embd[:org_embd.shape[0], :] = org_embd\n",
    "    mask[:org_embd.shape[0]] = 0\n",
    "    \n",
    "    return maksed_embd, mask"
   ]
  },
  {
   "cell_type": "code",
   "execution_count": 45,
   "id": "d26ad29d",
   "metadata": {},
   "outputs": [],
   "source": [
    "masked = [masking(article_df, idx) for idx in article_df.index]\n",
    "masked_tensors = torch.stack([m[0] for m in masked])\n",
    "masks = torch.stack([m[1] for m in masked])"
   ]
  },
  {
   "cell_type": "markdown",
   "id": "008b67e4",
   "metadata": {},
   "source": [
    "# Save to file"
   ]
  },
  {
   "cell_type": "code",
   "execution_count": 28,
   "id": "9bba4b92",
   "metadata": {},
   "outputs": [],
   "source": [
    "article_df[['id','date','title','sentences','sentence_counts','story','query']].to_json(DATASET_NAME+\"_preprocessed.json\") #remove 'story' or 'query' if not available "
   ]
  },
  {
   "cell_type": "code",
   "execution_count": 46,
   "id": "0a63b9e1",
   "metadata": {},
   "outputs": [],
   "source": [
    "torch.save(masked_tensors, DATASET_NAME+\"_masked_embds.pt\")"
   ]
  },
  {
   "cell_type": "code",
   "execution_count": 47,
   "id": "a406612a",
   "metadata": {},
   "outputs": [],
   "source": [
    "torch.save(masks, DATASET_NAME+\"_masks.pt\")"
   ]
  },
  {
   "cell_type": "code",
   "execution_count": null,
   "id": "5e62381f",
   "metadata": {},
   "outputs": [],
   "source": []
  }
 ],
 "metadata": {
  "kernelspec": {
   "display_name": "Python 3.8.8 ('base')",
   "language": "python",
   "name": "python3"
  },
  "language_info": {
   "codemirror_mode": {
    "name": "ipython",
    "version": 3
   },
   "file_extension": ".py",
   "mimetype": "text/x-python",
   "name": "python",
   "nbconvert_exporter": "python",
   "pygments_lexer": "ipython3",
   "version": "3.8.8"
  },
  "vscode": {
   "interpreter": {
    "hash": "0dfa6e14e7404ef35cbde69cd8c2d952722f79e9799637b9afecd18e8686c957"
   }
  }
 },
 "nbformat": 4,
 "nbformat_minor": 5
}
